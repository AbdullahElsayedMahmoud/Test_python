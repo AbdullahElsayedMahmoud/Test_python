{
 "cells": [
  {
   "cell_type": "markdown",
   "metadata": {},
   "source": [
    "Write a Program That can Take Name in lower case and return it in Upper case"
   ]
  },
  {
   "cell_type": "code",
   "execution_count": 1,
   "metadata": {},
   "outputs": [
    {
     "name": "stdout",
     "output_type": "stream",
     "text": [
      "['ABDULLAH', 'ELSAYED', 'MAHMOUD', 'MOHAMED']\n"
     ]
    }
   ],
   "source": [
    "def uppercase(name):\n",
    "    return name.upper()\n",
    "\n",
    "name_list = ['abdullah', 'elsayed', 'mahmoud', 'mohamed']\n",
    "\n",
    "uppercase_names = list(map(uppercase, name_list))\n",
    "print(uppercase_names)"
   ]
  },
  {
   "cell_type": "markdown",
   "metadata": {},
   "source": [
    "Write a Program That Can Take a Number and Check for it (Prime or Not)"
   ]
  },
  {
   "cell_type": "code",
   "execution_count": 2,
   "metadata": {},
   "outputs": [
    {
     "name": "stdout",
     "output_type": "stream",
     "text": [
      "[True, True, False, False, True, False]\n"
     ]
    }
   ],
   "source": [
    "def is_prime(num):\n",
    "    if num < 2:\n",
    "        return False\n",
    "    for z in range(2, int(num ** 0.5) + 2):\n",
    "        if num % z == 0:\n",
    "            return False\n",
    "    return True\n",
    "\n",
    "numbers = [7, 19, 22, 25, 31, 54]\n",
    "\n",
    "prime_status = list(map(is_prime, numbers))\n",
    "print(prime_status)"
   ]
  }
 ],
 "metadata": {
  "kernelspec": {
   "display_name": "Python 3",
   "language": "python",
   "name": "python3"
  },
  "language_info": {
   "codemirror_mode": {
    "name": "ipython",
    "version": 3
   },
   "file_extension": ".py",
   "mimetype": "text/x-python",
   "name": "python",
   "nbconvert_exporter": "python",
   "pygments_lexer": "ipython3",
   "version": "3.11.4"
  },
  "orig_nbformat": 4
 },
 "nbformat": 4,
 "nbformat_minor": 2
}
